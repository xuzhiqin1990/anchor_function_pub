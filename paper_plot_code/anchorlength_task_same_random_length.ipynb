{
 "cells": [
  {
   "cell_type": "code",
   "execution_count": 7,
   "metadata": {},
   "outputs": [
    {
     "name": "stdout",
     "output_type": "stream",
     "text": [
      "{'27': {'short': [0.88, 0.782, 0.42, 0.586], 'middle': [0.998, 0.672, 0.79, 0.77]}, '29': {'short': [0.178, 0.388, 0.744, 0.782], 'middle': [0.48, 0.898, 0.46, 0.724]}, '31': {'short': [0.33, 0.398, 0.624, 0.738], 'middle': [0.946, 0.348, 0.638]}, '33': {'short': [0.178, 0.206, 0.79, 0.158], 'middle': [0.134, 0.18, 0.278]}, '35': {'short': [0.03, 0.044, 0.07, 0.038, 0.124], 'middle': [0.078, 0.062, 0.904, 0.082, 0.14]}, '37': {'short': [0.078, 0.086, 0.116, 0.136, 0.09], 'middle': [0.112, 0.088, 0.086, 0.076, 0.13]}}\n"
     ]
    }
   ],
   "source": [
    "import numpy as np\n",
    "import os\n",
    "\n",
    "path='/root/code/LLM/anchor-function-new/result/GPT_anchorlength_samerandomlength_normal'\n",
    "\n",
    "long_sentence_percent_list=[27, 29, 31, 33, 35, 37]\n",
    "# long_sentence_percent_list=['0.0', '0.05', '0.1', '0.15', '0.2', '0.25', '0.3', '0.35', '0.4', '0.45', '0.5', '0.55', '0.6', '0.65', '0.7', '0.75', '0.8', '0.85', '0.9', '0.95', '1.0']\n",
    "\n",
    "dict_all={}\n",
    "\n",
    "for i in long_sentence_percent_list:\n",
    "    dict_all[f'{i}']={}\n",
    "    # for seed in [1,2,3]:\n",
    "    #     dict_all[i][f'{seed}']={}\n",
    "    for mode in ['short', 'middle']:\n",
    "        dict_all[f'{i}'][mode]=[]\n",
    "\n",
    "\n",
    "for i in long_sentence_percent_list:\n",
    "    for mode in ['short', 'middle']:\n",
    "        if mode=='middle':\n",
    "            path_new=f'{path}/nl_4_nh_4_sl_{i+1}_mode_{mode}'\n",
    "        else:\n",
    "            path_new=f'{path}/nl_4_nh_4_sl_{i}_mode_{mode}'\n",
    "        dir_list=os.listdir(path_new)\n",
    "        for j in dir_list:\n",
    "            if os.path.exists(f'{path_new}/{j}/model/model_3999.pt'):\n",
    "                acc=np.load(f'{path_new}/{j}/loss/test_acc_his.npz')\n",
    "                dict_all[f'{i}'][mode].append(max(acc['test']))\n",
    "\n",
    "\n",
    "\n",
    "print(dict_all)\n",
    "\n",
    "\n",
    "\n"
   ]
  },
  {
   "cell_type": "code",
   "execution_count": 8,
   "metadata": {},
   "outputs": [
    {
     "name": "stdout",
     "output_type": "stream",
     "text": [
      "0.6669999999999999\n",
      "0.8075\n",
      "0.523\n",
      "0.6405000000000001\n",
      "0.5225\n",
      "0.644\n",
      "0.33299999999999996\n",
      "0.19733333333333336\n",
      "0.06120000000000001\n",
      "0.2532\n",
      "0.1012\n",
      "0.09840000000000002\n"
     ]
    }
   ],
   "source": [
    "for i in long_sentence_percent_list:\n",
    "    for mode in ['short', 'middle']:\n",
    "        print(np.mean(dict_all[f'{i}'][mode]))"
   ]
  }
 ],
 "metadata": {
  "kernelspec": {
   "display_name": "Python 3",
   "language": "python",
   "name": "python3"
  },
  "language_info": {
   "codemirror_mode": {
    "name": "ipython",
    "version": 3
   },
   "file_extension": ".py",
   "mimetype": "text/x-python",
   "name": "python",
   "nbconvert_exporter": "python",
   "pygments_lexer": "ipython3",
   "version": "3.10.12"
  }
 },
 "nbformat": 4,
 "nbformat_minor": 2
}
